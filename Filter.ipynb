{
 "cells": [
  {
   "cell_type": "markdown",
   "id": "5326bbad",
   "metadata": {},
   "source": [
    "1. Explain the purpose of the `filter()` function in Python and provide an example of how it can be\n",
    "used to filter elements from an iterable.\n"
   ]
  },
  {
   "cell_type": "markdown",
   "id": "f3a01410",
   "metadata": {},
   "source": [
    "The filter() function in Python is used to filter elements from an iterable (e.g., a list, tuple, or any other iterable) based on a specified function or condition. It creates a new iterable containing only the elements that satisfy the given condition."
   ]
  },
  {
   "cell_type": "markdown",
   "id": "0586c2ef",
   "metadata": {},
   "source": [
    "2. Write a Python program that uses the `filter()` function to select even numbers from a list of\n",
    "integers"
   ]
  },
  {
   "cell_type": "code",
   "execution_count": 2,
   "id": "f8dfc8dd",
   "metadata": {},
   "outputs": [
    {
     "name": "stdout",
     "output_type": "stream",
     "text": [
      "[2, 4, 6, 8]\n"
     ]
    }
   ],
   "source": [
    "def find_even(n):\n",
    "    if n%2==0:\n",
    "        return n\n",
    "l=[2,3,4,5,6,7,8]\n",
    "res=list(filter(find_even,l))\n",
    "print(res)"
   ]
  },
  {
   "cell_type": "markdown",
   "id": "0141ab6b",
   "metadata": {},
   "source": [
    "3. Create a Python program that uses the `filter()` function to select names that start with a specific\n",
    "letter from a list of strings.\n"
   ]
  },
  {
   "cell_type": "code",
   "execution_count": 3,
   "id": "5a9354fe",
   "metadata": {},
   "outputs": [
    {
     "name": "stdout",
     "output_type": "stream",
     "text": [
      "['python', 'pwskills']\n"
     ]
    }
   ],
   "source": [
    "def find_name(s):\n",
    "    if s[0]=='p':\n",
    "        return s\n",
    "names=[\"python\",\"java\",\"DSA\",\"pwskills\"]\n",
    "res=list(filter(find_name,names))\n",
    "print(res)"
   ]
  },
  {
   "cell_type": "markdown",
   "id": "4c83b796",
   "metadata": {},
   "source": [
    "4. Write a Python program that uses the `filter()` function to select prime numbers from a list of\n",
    "integers.\n"
   ]
  },
  {
   "cell_type": "code",
   "execution_count": 19,
   "id": "0c3d8bdc",
   "metadata": {},
   "outputs": [
    {
     "name": "stdout",
     "output_type": "stream",
     "text": [
      "[2, 3, 5, 7, 11, 13, 17, 19, 23, 29]\n"
     ]
    }
   ],
   "source": [
    "import math\n",
    "def isPrime(n):\n",
    "    if n<=1:\n",
    "        return False\n",
    "    for i in range(2,int(math.sqrt(n))+1):\n",
    "        if n%i==0:\n",
    "            return False\n",
    "    return True\n",
    "res=list(filter(isPrime,range(30)))\n",
    "print(res)     "
   ]
  },
  {
   "cell_type": "markdown",
   "id": "20ba2000",
   "metadata": {},
   "source": [
    "5. How can you use the `filter()` function to remove None values from a list in Python?"
   ]
  },
  {
   "cell_type": "code",
   "execution_count": 16,
   "id": "e3254fbc",
   "metadata": {},
   "outputs": [
    {
     "name": "stdout",
     "output_type": "stream",
     "text": [
      "[1, 2, 3, 5, 6]\n"
     ]
    }
   ],
   "source": [
    "l=[1,None,2,3,None,5,6,None]\n",
    "res=list(filter(lambda n: n is not None,l))\n",
    "print(res)"
   ]
  },
  {
   "cell_type": "markdown",
   "id": "e72ee447",
   "metadata": {},
   "source": [
    "6. Create a Python program that uses `filter()` to select words longer than a certain length from a\n",
    "list of strings.\n"
   ]
  },
  {
   "cell_type": "code",
   "execution_count": 12,
   "id": "519e7217",
   "metadata": {},
   "outputs": [
    {
     "name": "stdout",
     "output_type": "stream",
     "text": [
      "['python', 'networking']\n"
     ]
    }
   ],
   "source": [
    "l=[\"python\",\"java\",\"DSA\",\"networking\"]\n",
    "res=list(filter(lambda s:len(s)>4,l))\n",
    "print(res)"
   ]
  },
  {
   "cell_type": "markdown",
   "id": "86e42951",
   "metadata": {},
   "source": [
    "7. Write a Python program that uses the `filter()` function to select elements greater than a\n",
    "specified threshold from a list of values.\n"
   ]
  },
  {
   "cell_type": "code",
   "execution_count": 10,
   "id": "3a9d23c0",
   "metadata": {},
   "outputs": [
    {
     "name": "stdout",
     "output_type": "stream",
     "text": [
      "[23, 20, 24, 12, 56]\n"
     ]
    }
   ],
   "source": [
    "l=[23,4,5,6,20,1,2,24,12,56]\n",
    "res=list(filter(lambda n: n>10,l))\n",
    "print(res)"
   ]
  },
  {
   "cell_type": "code",
   "execution_count": null,
   "id": "ecc2ffc4",
   "metadata": {},
   "outputs": [],
   "source": []
  }
 ],
 "metadata": {
  "kernelspec": {
   "display_name": "Python 3 (ipykernel)",
   "language": "python",
   "name": "python3"
  },
  "language_info": {
   "codemirror_mode": {
    "name": "ipython",
    "version": 3
   },
   "file_extension": ".py",
   "mimetype": "text/x-python",
   "name": "python",
   "nbconvert_exporter": "python",
   "pygments_lexer": "ipython3",
   "version": "3.10.9"
  }
 },
 "nbformat": 4,
 "nbformat_minor": 5
}
