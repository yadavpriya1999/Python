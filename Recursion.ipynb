{
 "cells": [
  {
   "cell_type": "markdown",
   "id": "2ac5822e",
   "metadata": {},
   "source": [
    "1. Explain the concept of recursion in Python. How does it differ from iteration?"
   ]
  },
  {
   "cell_type": "markdown",
   "id": "976833ac",
   "metadata": {},
   "source": [
    "Recursion is when a function calls itself within its code, thus repeatedly executing the instructions present inside it. Iteration is when a loop repeatedly executes the set of instructions like \"for\" loops and \"while\" loops"
   ]
  },
  {
   "cell_type": "markdown",
   "id": "e2e3e9dd",
   "metadata": {},
   "source": [
    "2. Write a Python program to calculate the factorial of a number using recursion.\n"
   ]
  },
  {
   "cell_type": "code",
   "execution_count": 1,
   "id": "d49ffc7b",
   "metadata": {},
   "outputs": [
    {
     "data": {
      "text/plain": [
       "120"
      ]
     },
     "execution_count": 1,
     "metadata": {},
     "output_type": "execute_result"
    }
   ],
   "source": [
    "def fact(n):\n",
    "    if n==0 or n==1:\n",
    "        return n\n",
    "    return n*fact(n-1)\n",
    "fact(5)"
   ]
  },
  {
   "cell_type": "markdown",
   "id": "eae2c065",
   "metadata": {},
   "source": [
    "3. Create a recursive Python function to find the nth Fibonacci number.\n"
   ]
  },
  {
   "cell_type": "code",
   "execution_count": 2,
   "id": "1ecc7e39",
   "metadata": {},
   "outputs": [
    {
     "name": "stdout",
     "output_type": "stream",
     "text": [
      "0 1 1 2 3 5 8 13 "
     ]
    }
   ],
   "source": [
    "def fibb(n):\n",
    "    if n<=1:\n",
    "        return n\n",
    "    else:\n",
    "        return (fibb(n-1)+fibb(n-2))\n",
    "n=8\n",
    "for i in range(n):\n",
    "    print(fibb(i),end=\" \")"
   ]
  },
  {
   "cell_type": "markdown",
   "id": "f7c3f2d4",
   "metadata": {},
   "source": [
    "4. Write a recursive Python function to calculate the sum of all elements in a list.\n"
   ]
  },
  {
   "cell_type": "code",
   "execution_count": 3,
   "id": "6c44a340",
   "metadata": {},
   "outputs": [
    {
     "name": "stdout",
     "output_type": "stream",
     "text": [
      "10\n"
     ]
    }
   ],
   "source": [
    "def ele_sum(lst):\n",
    "    if not lst:\n",
    "        return 0\n",
    "    else:\n",
    "        return (lst[0]+ele_sum(lst[1:]))\n",
    "l=[1,2,3,4]\n",
    "print(ele_sum(l))"
   ]
  },
  {
   "cell_type": "markdown",
   "id": "471a0953",
   "metadata": {},
   "source": [
    "5. How can you prevent a recursive function from running indefinitely, causing a stack overflow\n",
    "error?\n"
   ]
  },
  {
   "cell_type": "markdown",
   "id": "36d284ec",
   "metadata": {},
   "source": [
    "A recursive function can cause a stack overflow error if it runs too deeply. To prevent this,  \n",
    "Implement a base case, which is a condition that stops the function from calling itself again.\n",
    "Use an itera"
   ]
  },
  {
   "cell_type": "markdown",
   "id": "e263bdf3",
   "metadata": {},
   "source": [
    "6. Create a recursive Python function to find the greatest common divisor (GCD) of two numbers\n",
    "using the Euclidean algorithm.\n"
   ]
  },
  {
   "cell_type": "code",
   "execution_count": 44,
   "id": "d7035585",
   "metadata": {},
   "outputs": [],
   "source": [
    "def findGCD(n1,n2):\n",
    "    if n1==0 or n2==0:\n",
    "        return n1+n2\n",
    "    if n1==n2:\n",
    "        return n1\n",
    "    if n1>n2:\n",
    "        return findGCD(n1-n2,n2)\n",
    "    else:\n",
    "        return findGCD(n1,n2-n1)"
   ]
  },
  {
   "cell_type": "code",
   "execution_count": 45,
   "id": "d7b92af3",
   "metadata": {},
   "outputs": [
    {
     "data": {
      "text/plain": [
       "12"
      ]
     },
     "execution_count": 45,
     "metadata": {},
     "output_type": "execute_result"
    }
   ],
   "source": [
    "findGCD(24,36)"
   ]
  },
  {
   "cell_type": "markdown",
   "id": "5e9e4788",
   "metadata": {},
   "source": [
    "7. Write a recursive Python function to reverse a string."
   ]
  },
  {
   "cell_type": "code",
   "execution_count": 4,
   "id": "3a43c667",
   "metadata": {},
   "outputs": [
    {
     "name": "stdout",
     "output_type": "stream",
     "text": [
      "sllikswp\n"
     ]
    }
   ],
   "source": [
    "def reverseStr(s):\n",
    "    if len(s)==0:\n",
    "        return s\n",
    "    else:\n",
    "        return (reverseStr(s[1:])+s[0])\n",
    "str1=\"pwskills\"\n",
    "print(reverseStr(str1))"
   ]
  },
  {
   "cell_type": "markdown",
   "id": "0cbb657c",
   "metadata": {},
   "source": [
    "8. Create a recursive Python function to calculate the power of a number (x^n).\n"
   ]
  },
  {
   "cell_type": "code",
   "execution_count": 2,
   "id": "3bf55600",
   "metadata": {},
   "outputs": [
    {
     "name": "stdout",
     "output_type": "stream",
     "text": [
      "32\n"
     ]
    }
   ],
   "source": [
    "def power(x,n):\n",
    "    if n==0:\n",
    "        return 1\n",
    "    else:\n",
    "        return (x*power(x,n-1))\n",
    "print(power(2,5))"
   ]
  },
  {
   "cell_type": "markdown",
   "id": "238b61df",
   "metadata": {},
   "source": [
    "9. Write a recursive Python function to find all permutations of a given string.\n"
   ]
  },
  {
   "cell_type": "code",
   "execution_count": 25,
   "id": "7c5eb071",
   "metadata": {},
   "outputs": [],
   "source": [
    "\n",
    "def count_permutation(s,left,right):\n",
    "    if left==right:\n",
    "        print(''.join(s),end=\" \")\n",
    "    else:\n",
    "        for i in range(left, right+1):\n",
    "            s[left],s[i]=s[i],s[left]\n",
    "            count_permutation(s,left+1,right)\n",
    "            s[left],s[i]=s[i],s[left]\n"
   ]
  },
  {
   "cell_type": "code",
   "execution_count": 24,
   "id": "7c53185b",
   "metadata": {},
   "outputs": [
    {
     "name": "stdout",
     "output_type": "stream",
     "text": [
      "ABC ACB BAC BCA CBA CAB "
     ]
    }
   ],
   "source": [
    "s=\"ABC\"\n",
    "n=len(s)\n",
    "s=list(s)\n",
    "count_permutation(s,0,n-1)"
   ]
  },
  {
   "cell_type": "markdown",
   "id": "14461dca",
   "metadata": {},
   "source": [
    "10. Write a recursive Python function to check if a string is a palindrome."
   ]
  },
  {
   "cell_type": "code",
   "execution_count": 28,
   "id": "06487af0",
   "metadata": {},
   "outputs": [],
   "source": [
    "def check_palindrom(s,l,r):\n",
    "    if s[l]!=s[r]:\n",
    "        return False\n",
    "    elif s[l]==s[r]:\n",
    "        return True\n",
    "    \n",
    "    else:\n",
    "        return check_palindrom(s,l+1,r-1)"
   ]
  },
  {
   "cell_type": "code",
   "execution_count": 33,
   "id": "6f7e1c64",
   "metadata": {},
   "outputs": [
    {
     "data": {
      "text/plain": [
       "True"
      ]
     },
     "execution_count": 33,
     "metadata": {},
     "output_type": "execute_result"
    }
   ],
   "source": [
    "s=\"NAMAN\"\n",
    "n=len(s)\n",
    "check_palindrom(s,0,n-1)"
   ]
  },
  {
   "cell_type": "markdown",
   "id": "8bf7b417",
   "metadata": {},
   "source": [
    "11. Create a recursive Python function to generate all possible combinations of a list of elements.\n"
   ]
  },
  {
   "cell_type": "code",
   "execution_count": 42,
   "id": "32c72e3f",
   "metadata": {},
   "outputs": [],
   "source": [
    "def combination(l):\n",
    "    if l:\n",
    "        res=combination(l[:-1])\n",
    "        return res+[c+[l[-1]] for c in res]\n",
    "    else:\n",
    "        return [[]]\n",
    "    "
   ]
  },
  {
   "cell_type": "code",
   "execution_count": 43,
   "id": "0898bf7e",
   "metadata": {},
   "outputs": [
    {
     "data": {
      "text/plain": [
       "[[], [1], [2], [1, 2], [3], [1, 3], [2, 3], [1, 2, 3]]"
      ]
     },
     "execution_count": 43,
     "metadata": {},
     "output_type": "execute_result"
    }
   ],
   "source": [
    "combination([1,2,3])"
   ]
  },
  {
   "cell_type": "code",
   "execution_count": null,
   "id": "081f26d6",
   "metadata": {},
   "outputs": [],
   "source": []
  }
 ],
 "metadata": {
  "kernelspec": {
   "display_name": "Python 3 (ipykernel)",
   "language": "python",
   "name": "python3"
  },
  "language_info": {
   "codemirror_mode": {
    "name": "ipython",
    "version": 3
   },
   "file_extension": ".py",
   "mimetype": "text/x-python",
   "name": "python",
   "nbconvert_exporter": "python",
   "pygments_lexer": "ipython3",
   "version": "3.10.9"
  }
 },
 "nbformat": 4,
 "nbformat_minor": 5
}
