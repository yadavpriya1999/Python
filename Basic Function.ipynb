{
 "cells": [
  {
   "cell_type": "markdown",
   "id": "36bfd20a",
   "metadata": {},
   "source": [
    "1. What is a function in Python, and why is it used?"
   ]
  },
  {
   "cell_type": "markdown",
   "id": "ff23fecd",
   "metadata": {},
   "source": [
    "A function is a block of code which only runs when it is called.\n",
    "\n",
    "You can pass data, known as parameters, into a function.\n",
    "\n",
    "A function can return data as a result."
   ]
  },
  {
   "cell_type": "markdown",
   "id": "19339713",
   "metadata": {},
   "source": [
    "2. How do you define a function in Python? Provide an example.\n"
   ]
  },
  {
   "cell_type": "code",
   "execution_count": 1,
   "id": "dbc6c73d",
   "metadata": {},
   "outputs": [
    {
     "name": "stdout",
     "output_type": "stream",
     "text": [
      "This is a function\n"
     ]
    }
   ],
   "source": [
    "def fun():\n",
    "    print(\"This is a function\")\n",
    "fun()"
   ]
  },
  {
   "cell_type": "markdown",
   "id": "e34e2e8a",
   "metadata": {},
   "source": [
    "3. Explain the difference between a function definition and a function call"
   ]
  },
  {
   "cell_type": "markdown",
   "id": "6a88e556",
   "metadata": {},
   "source": [
    "A function definition in Python is the creation of a reusable code block that defines a set of instructions to perform a specific task."
   ]
  },
  {
   "cell_type": "markdown",
   "id": "787492df",
   "metadata": {},
   "source": [
    "A function call, on the other hand, is the actual execution of the function, where you use the function's name along with any required arguments/parameters to invoke the code defined in the function definition."
   ]
  },
  {
   "cell_type": "markdown",
   "id": "8e60e39e",
   "metadata": {},
   "source": [
    "4. Write a Python program that defines a function to calculate the sum of two numbers and then\n",
    "calls the function.\n"
   ]
  },
  {
   "cell_type": "code",
   "execution_count": 2,
   "id": "00dcf9ed",
   "metadata": {},
   "outputs": [
    {
     "name": "stdout",
     "output_type": "stream",
     "text": [
      "7\n"
     ]
    }
   ],
   "source": [
    "def fun(a,b):\n",
    "    return a+b\n",
    "print(fun(2,5))"
   ]
  },
  {
   "cell_type": "markdown",
   "id": "bef8fb62",
   "metadata": {},
   "source": [
    "5. What is a function signature, and what information does it typically include?"
   ]
  },
  {
   "cell_type": "markdown",
   "id": "b13cd80c",
   "metadata": {},
   "source": [
    "The function signature provides a concise summary of the function's name, parameters, and return type, making it easier to understand how to use the function without delving into its implementation details."
   ]
  },
  {
   "cell_type": "markdown",
   "id": "8cffb1a7",
   "metadata": {},
   "source": [
    "6. Create a Python function that takes two arguments and returns their product.\n"
   ]
  },
  {
   "cell_type": "code",
   "execution_count": 3,
   "id": "90733f41",
   "metadata": {},
   "outputs": [
    {
     "name": "stdout",
     "output_type": "stream",
     "text": [
      "48\n"
     ]
    }
   ],
   "source": [
    "def fun(a,b):\n",
    "    return a*b\n",
    "print(fun(12,4))"
   ]
  },
  {
   "cell_type": "markdown",
   "id": "7a3bbfc2",
   "metadata": {},
   "source": [
    "# Function Parameter and  Argument"
   ]
  },
  {
   "cell_type": "markdown",
   "id": "82bf2a00",
   "metadata": {},
   "source": [
    "1. Explain the concepts of formal parameters and actual arguments in Python functions.\n"
   ]
  },
  {
   "cell_type": "markdown",
   "id": "a5667d28",
   "metadata": {},
   "source": [
    "Formal parameters are placeholders or variables defined in the function header or signature"
   ]
  },
  {
   "cell_type": "markdown",
   "id": "d937bc46",
   "metadata": {},
   "source": [
    "Actual arguments, often referred to as arguments or function arguments, are the values or expressions that you provide when calling a function. "
   ]
  },
  {
   "cell_type": "markdown",
   "id": "4950aa3d",
   "metadata": {},
   "source": [
    "2. Write a Python program that defines a function with default argument values."
   ]
  },
  {
   "cell_type": "code",
   "execution_count": 4,
   "id": "d8c17d3e",
   "metadata": {},
   "outputs": [
    {
     "name": "stdout",
     "output_type": "stream",
     "text": [
      "80\n"
     ]
    }
   ],
   "source": [
    "def add_num(a=30,b=50):\n",
    "    return a+b\n",
    "print(add_num())"
   ]
  },
  {
   "cell_type": "markdown",
   "id": "e4f3dc44",
   "metadata": {},
   "source": [
    "3. How do you use keyword arguments in Python function calls? Provide an example."
   ]
  },
  {
   "cell_type": "code",
   "execution_count": 5,
   "id": "5d5fd9e1",
   "metadata": {},
   "outputs": [
    {
     "name": "stdout",
     "output_type": "stream",
     "text": [
      "Hello my name : Priya\n",
      "and my age : 24\n"
     ]
    }
   ],
   "source": [
    "def greet(name,age):\n",
    "    print(\"Hello my name :\",name)\n",
    "    print(\"and my age :\",age)\n",
    "greet(age=24,name=\"Priya\")"
   ]
  },
  {
   "cell_type": "markdown",
   "id": "0c1cd063",
   "metadata": {},
   "source": [
    "4. Create a Python function that accepts a variable number of arguments and calculates their sum.\n"
   ]
  },
  {
   "cell_type": "code",
   "execution_count": 6,
   "id": "cd0613cc",
   "metadata": {},
   "outputs": [
    {
     "name": "stdout",
     "output_type": "stream",
     "text": [
      "19\n"
     ]
    }
   ],
   "source": [
    "def sum_number(*args):\n",
    "    s=0\n",
    "    for i in args:\n",
    "        s+=i\n",
    "    print(s)\n",
    "sum_number(1,2,5,2,4,5)\n"
   ]
  },
  {
   "cell_type": "code",
   "execution_count": 7,
   "id": "5f18c905",
   "metadata": {},
   "outputs": [
    {
     "name": "stdout",
     "output_type": "stream",
     "text": [
      "112\n"
     ]
    }
   ],
   "source": [
    "sum_number(34,78)"
   ]
  },
  {
   "cell_type": "markdown",
   "id": "1b86026d",
   "metadata": {},
   "source": [
    "5. What is the purpose of the `*args` and `**kwargs` syntax in function parameter lists?"
   ]
  },
  {
   "cell_type": "markdown",
   "id": "5ea6bb09",
   "metadata": {},
   "source": [
    "*args-> for number of parameter can pass\n",
    "\n",
    "\n",
    "\n",
    "**kwargs-> can pass key value parameter like dictionary"
   ]
  },
  {
   "cell_type": "markdown",
   "id": "fff854f0",
   "metadata": {},
   "source": [
    "# Return Values and Scoping:\n"
   ]
  },
  {
   "cell_type": "markdown",
   "id": "d3b840ff",
   "metadata": {},
   "source": [
    "1. Describe the role of the `return` statement in Python functions and provide examples.\n"
   ]
  },
  {
   "cell_type": "markdown",
   "id": "dd1f028a",
   "metadata": {},
   "source": [
    "The return statement in Python functions is used to specify what value or values a function should produce as its output.\n",
    "\n"
   ]
  },
  {
   "cell_type": "markdown",
   "id": "ea322558",
   "metadata": {},
   "source": [
    "Function of 'Return Statement'-\n"
   ]
  },
  {
   "cell_type": "markdown",
   "id": "8d6095b8",
   "metadata": {},
   "source": [
    "1.Return a single value\n",
    "\n",
    "2.Return a multiple value\n",
    "\n",
    "3.Early exit from a function\n",
    "\n",
    "4.No explicit return statement--> If a function does not include a return statement, it implicitly returns None, which is a special Python object representing the absence of a value.\n"
   ]
  },
  {
   "cell_type": "code",
   "execution_count": 8,
   "id": "60def782",
   "metadata": {},
   "outputs": [
    {
     "name": "stdout",
     "output_type": "stream",
     "text": [
      "None\n"
     ]
    }
   ],
   "source": [
    "def no_explicit():\n",
    "    a=1\n",
    "    b=3\n",
    "    c=b+a\n",
    "    \n",
    "\n",
    "no_return=no_explicit()\n",
    "print(no_return)"
   ]
  },
  {
   "cell_type": "markdown",
   "id": "1e70d93e",
   "metadata": {},
   "source": [
    "2. Explain the concept of variable scope in Python, including local and global variables.\n"
   ]
  },
  {
   "cell_type": "code",
   "execution_count": 9,
   "id": "fbe0806e",
   "metadata": {},
   "outputs": [
    {
     "name": "stdout",
     "output_type": "stream",
     "text": [
      "10\n"
     ]
    }
   ],
   "source": [
    "#1.Local variable\n",
    "\n",
    "def printnum():\n",
    "    x=10 #Local variable\n",
    "    print(x)\n",
    "printnum()"
   ]
  },
  {
   "cell_type": "code",
   "execution_count": 10,
   "id": "296bf0d8",
   "metadata": {},
   "outputs": [
    {
     "ename": "NameError",
     "evalue": "name 'y' is not defined",
     "output_type": "error",
     "traceback": [
      "\u001b[1;31m---------------------------------------------------------------------------\u001b[0m",
      "\u001b[1;31mNameError\u001b[0m                                 Traceback (most recent call last)",
      "Cell \u001b[1;32mIn[10], line 11\u001b[0m\n\u001b[0;32m      7\u001b[0m     \u001b[38;5;28mprint\u001b[39m(x)\n\u001b[0;32m      8\u001b[0m \u001b[38;5;66;03m# print(x+1)\u001b[39;00m\n\u001b[0;32m      9\u001b[0m \u001b[38;5;66;03m# cant access outside of fun\u001b[39;00m\n\u001b[1;32m---> 11\u001b[0m \u001b[38;5;28mprint\u001b[39m(\u001b[43my\u001b[49m)\n\u001b[0;32m     12\u001b[0m printnum()\n",
      "\u001b[1;31mNameError\u001b[0m: name 'y' is not defined"
     ]
    }
   ],
   "source": [
    "#2.Global variable\n",
    "def printnum():\n",
    "    x=10 #Local variable\n",
    "    \n",
    "    global y\n",
    "    y=30\n",
    "    print(x)\n",
    "# print(x+1)\n",
    "# cant access outside of fun\n",
    "\n",
    "print(y)\n",
    "printnum()\n"
   ]
  },
  {
   "cell_type": "markdown",
   "id": "08538774",
   "metadata": {},
   "source": [
    "3. Write a Python program that demonstrates the use of global variables within functions.\n"
   ]
  },
  {
   "cell_type": "code",
   "execution_count": null,
   "id": "b81468d8",
   "metadata": {},
   "outputs": [],
   "source": [
    "def global_var():\n",
    "    global a\n",
    "    a=10\n",
    "    print(a+2)\n",
    "print(a)\n",
    "#print(a+2)---> access but cant modify outside of scope\n",
    "global_var()"
   ]
  },
  {
   "cell_type": "markdown",
   "id": "e1a4e62b",
   "metadata": {},
   "source": [
    "\n",
    "4. Create a Python function that calculates the factorial of a number and returns it."
   ]
  },
  {
   "cell_type": "code",
   "execution_count": null,
   "id": "8fc266b5",
   "metadata": {},
   "outputs": [],
   "source": [
    "def fact(n):\n",
    "    if n<=1:\n",
    "        return n\n",
    "    else:\n",
    "        return n*fact(n-1)\n",
    "fact(5)"
   ]
  },
  {
   "cell_type": "markdown",
   "id": "3027a90d",
   "metadata": {},
   "source": [
    "5. How can you access variables defined outside a function from within the function?"
   ]
  },
  {
   "cell_type": "code",
   "execution_count": null,
   "id": "161e87ad",
   "metadata": {},
   "outputs": [],
   "source": [
    "a=20\n",
    "def func():\n",
    "    #a=a+20 # Cant modify\n",
    "    print(a)\n",
    "func()"
   ]
  },
  {
   "cell_type": "code",
   "execution_count": 11,
   "id": "cd426b6f",
   "metadata": {},
   "outputs": [
    {
     "name": "stdout",
     "output_type": "stream",
     "text": [
      "40\n"
     ]
    }
   ],
   "source": [
    "a=20\n",
    "def func():\n",
    "    global a\n",
    "    a=a+20 # Cant modify\n",
    "    print(a)\n",
    "func()"
   ]
  },
  {
   "cell_type": "markdown",
   "id": "081ff62d",
   "metadata": {},
   "source": [
    "# Lambda Functions and Higher-Order Functions"
   ]
  },
  {
   "cell_type": "markdown",
   "id": "c76e8cc5",
   "metadata": {},
   "source": [
    "1. What are lambda functions in Python, and when are they typically used?"
   ]
  },
  {
   "cell_type": "markdown",
   "id": "c00a10e8",
   "metadata": {},
   "source": [
    "A lambda function in Python is a small, anonymous function. It is often used as an argument to another function, or as a short, throwaway function that you only need to use once."
   ]
  },
  {
   "cell_type": "code",
   "execution_count": 2,
   "id": "79eee184",
   "metadata": {},
   "outputs": [
    {
     "name": "stdout",
     "output_type": "stream",
     "text": [
      "This is Lambda Function\n"
     ]
    }
   ],
   "source": [
    "greet=lambda: print(\"This is Lambda Function\")\n",
    "greet()"
   ]
  },
  {
   "cell_type": "markdown",
   "id": "179dccf1",
   "metadata": {},
   "source": [
    "2. Write a Python program that uses lambda functions to sort a list of tuples based on the second\n",
    "element."
   ]
  },
  {
   "cell_type": "code",
   "execution_count": 17,
   "id": "b43183fa",
   "metadata": {},
   "outputs": [
    {
     "name": "stdout",
     "output_type": "stream",
     "text": [
      "(54, 4)\n",
      "(34, 8)\n",
      "(19, 35)\n"
     ]
    }
   ],
   "source": [
    "l=[(19,35),(54,4),(34,8)]\n",
    "sorted_data=sorted(l,key=lambda x:x[1])\n",
    "for i in sorted_data:\n",
    "    print(i)"
   ]
  },
  {
   "cell_type": "markdown",
   "id": "29384f65",
   "metadata": {},
   "source": [
    "3. Explain the concept of higher-order functions in Python, and provide an example"
   ]
  },
  {
   "cell_type": "markdown",
   "id": "cf02286e",
   "metadata": {},
   "source": [
    " A higher-order function is a function that takes one or more functions as arguments and/or returns a function as its result.\n",
    " \n",
    " \n",
    " 1. Functions as Arguments\n",
    " 2. Functions as Return Values:\n",
    " "
   ]
  },
  {
   "cell_type": "code",
   "execution_count": 8,
   "id": "9ee933d6",
   "metadata": {},
   "outputs": [
    {
     "name": "stdout",
     "output_type": "stream",
     "text": [
      "32\n",
      "20\n"
     ]
    }
   ],
   "source": [
    "def calculator(func,x,y):\n",
    "    return func(x,y)\n",
    "\n",
    "def add(x,y):\n",
    "    return x+y\n",
    "\n",
    "def sub(x,y):\n",
    "    return x-y\n",
    "\n",
    "res1=calculator(add,20,12)\n",
    "res2=calculator(sub,50,30)\n",
    "print(res1)\n",
    "print(res2)"
   ]
  },
  {
   "cell_type": "markdown",
   "id": "35e2ace8",
   "metadata": {},
   "source": [
    "4. Create a Python function that takes a list of numbers and a function as arguments, applying the\n",
    "function to each element in the list.\n"
   ]
  },
  {
   "cell_type": "code",
   "execution_count": 11,
   "id": "4d4cb7bc",
   "metadata": {},
   "outputs": [
    {
     "name": "stdout",
     "output_type": "stream",
     "text": [
      "[4, 6, 8, 10, 12]\n"
     ]
    }
   ],
   "source": [
    "def add(l):\n",
    "    return l*2\n",
    "\n",
    "lst=[2,3,4,5,6]\n",
    "res=list(map(add,lst))\n",
    "print(res)"
   ]
  },
  {
   "cell_type": "markdown",
   "id": "79e79cdd",
   "metadata": {},
   "source": [
    "# Built-in Functions\n"
   ]
  },
  {
   "cell_type": "markdown",
   "id": "1abf893b",
   "metadata": {},
   "source": [
    "1. Describe the role of built-in functions like `len()`, `max()`, and `min()` in Python.\n"
   ]
  },
  {
   "cell_type": "code",
   "execution_count": 20,
   "id": "3b23e05e",
   "metadata": {},
   "outputs": [
    {
     "name": "stdout",
     "output_type": "stream",
     "text": [
      "Length : 5\n",
      "Maximum : 5\n",
      "Minimum : 1\n"
     ]
    }
   ],
   "source": [
    "l=[1,2,3,4,5]\n",
    "print(\"Length :\",len(l))\n",
    "print(\"Maximum :\" ,max(l))\n",
    "print(\"Minimum :\",min(l))"
   ]
  },
  {
   "cell_type": "markdown",
   "id": "f9441436",
   "metadata": {},
   "source": [
    "2. Write a Python program that uses the `map()` function to apply a function to each element of a\n",
    "list."
   ]
  },
  {
   "cell_type": "code",
   "execution_count": 21,
   "id": "c94f7647",
   "metadata": {},
   "outputs": [
    {
     "name": "stdout",
     "output_type": "stream",
     "text": [
      "[4, 9, 16, 25, 36]\n"
     ]
    }
   ],
   "source": [
    "def square(l):\n",
    "    return l*l\n",
    "\n",
    "lst=[2,3,4,5,6]\n",
    "res=list(map(square,lst))\n",
    "print(res)\n"
   ]
  },
  {
   "cell_type": "markdown",
   "id": "326b034c",
   "metadata": {},
   "source": [
    "3. How does the `filter()` function work in Python, and when would you use it?"
   ]
  },
  {
   "cell_type": "code",
   "execution_count": 22,
   "id": "2c1ec3c7",
   "metadata": {},
   "outputs": [
    {
     "name": "stdout",
     "output_type": "stream",
     "text": [
      "[2, 4, 6, 8]\n"
     ]
    }
   ],
   "source": [
    "def find_even(l):\n",
    "    if l%2==0:\n",
    "        return True\n",
    "lst=[2,3,4,6,7,8]\n",
    "res=list(filter(find_even,lst))\n",
    "print(res)"
   ]
  },
  {
   "cell_type": "markdown",
   "id": "d471ced8",
   "metadata": {},
   "source": [
    "4. Create a Python program that uses the `reduce()` function to find the product of all elements in\n",
    "a list.\n"
   ]
  },
  {
   "cell_type": "code",
   "execution_count": 26,
   "id": "ef074b3b",
   "metadata": {},
   "outputs": [
    {
     "name": "stdout",
     "output_type": "stream",
     "text": [
      "15\n"
     ]
    }
   ],
   "source": [
    "from functools import reduce\n",
    "def sum_ele(a,b):\n",
    "    return l\n",
    "lst=[1,2,3,4,5]\n",
    "res=reduce(sum_ele,lst)\n",
    "print(res)"
   ]
  },
  {
   "cell_type": "markdown",
   "id": "c91733c7",
   "metadata": {},
   "source": [
    "# Function Documentation and Best Practices:"
   ]
  },
  {
   "cell_type": "markdown",
   "id": "3fed57c5",
   "metadata": {},
   "source": [
    "1. Explain the purpose of docstrings in Python functions and how to write them."
   ]
  },
  {
   "cell_type": "markdown",
   "id": "9d23f75a",
   "metadata": {},
   "source": [
    "Docstrings, short for \"documentation strings,\" serve as a way to document Python functions, modules, classes, and methods. They are used to provide human-readable documentation for code, making it easier for developers to understand how to use the code and its various components. Docstrings are essential for code maintainability, readability, and for generating automatic documentation using tools like Sphinx"
   ]
  },
  {
   "cell_type": "markdown",
   "id": "c4c38095",
   "metadata": {},
   "source": [
    "2. D\n",
    "e\n",
    "s\n",
    "c\n",
    "rib\n",
    "e\n",
    "s\n",
    "o\n",
    "m\n",
    "e\n",
    "b\n",
    "e\n",
    "s\n",
    "t\n",
    "p\n",
    "r\n",
    "a\n",
    "c\n",
    "tic\n",
    "e\n",
    "s\n",
    "f\n",
    "o\n",
    "r\n",
    "n\n",
    "a\n",
    "min\n",
    "g\n",
    "f\n",
    "u\n",
    "n\n",
    "c\n",
    "tio\n",
    "n\n",
    "s\n",
    "a\n",
    "n\n",
    "d\n",
    "v\n",
    "a\n",
    "ria\n",
    "ble\n",
    "s in\n",
    "P\n",
    "y\n",
    "t\n",
    "h\n",
    "o\n",
    "n\n",
    ", in\n",
    "clu\n",
    "din\n",
    "g\n",
    "n\n",
    "a\n",
    "min\n",
    "g\n",
    "c\n",
    "o\n",
    "n\n",
    "v\n",
    "e\n",
    "n\n",
    "tio\n",
    "n\n",
    "s\n",
    "a\n",
    "n\n",
    "d\n",
    "g\n",
    "uid\n",
    "elin\n",
    "e\n",
    "s."
   ]
  },
  {
   "cell_type": "markdown",
   "id": "3119254b",
   "metadata": {},
   "source": [
    "A variable name must start with a letter or the underscore character\n",
    "A variable name cannot start with a number\n",
    "A variable name can only contain alpha-numeric characters and underscores (A-z, 0-9, and _ )\n",
    "Variable names are case-sensitive (age, Age and AGE are three different variables)"
   ]
  },
  {
   "cell_type": "markdown",
   "id": "07f30686",
   "metadata": {},
   "source": [
    "1. Use lowercase letters: Function names should be in lowercase. If the function name consists of multiple words, separate them using underscores (_).\n",
    "\n",
    "2. Be descriptive and use clear names: The function name should clearly describe the purpose of the function."
   ]
  },
  {
   "cell_type": "code",
   "execution_count": null,
   "id": "d6530546",
   "metadata": {},
   "outputs": [],
   "source": []
  }
 ],
 "metadata": {
  "kernelspec": {
   "display_name": "Python 3 (ipykernel)",
   "language": "python",
   "name": "python3"
  },
  "language_info": {
   "codemirror_mode": {
    "name": "ipython",
    "version": 3
   },
   "file_extension": ".py",
   "mimetype": "text/x-python",
   "name": "python",
   "nbconvert_exporter": "python",
   "pygments_lexer": "ipython3",
   "version": "3.10.9"
  }
 },
 "nbformat": 4,
 "nbformat_minor": 5
}
