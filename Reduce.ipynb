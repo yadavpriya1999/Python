{
 "cells": [
  {
   "cell_type": "markdown",
   "id": "2532cae5",
   "metadata": {},
   "source": [
    "1. What is the `reduce()` function in Python, and what module should you import to use it? Provide\n",
    "an example of its basic usage."
   ]
  },
  {
   "cell_type": "code",
   "execution_count": 3,
   "id": "95437b77",
   "metadata": {},
   "outputs": [
    {
     "name": "stdout",
     "output_type": "stream",
     "text": [
      "15\n"
     ]
    }
   ],
   "source": [
    "from functools import reduce\n",
    "\n",
    "def add(a,b):\n",
    "    return a+b\n",
    "\n",
    "num=[1,2,3,4,5]\n",
    "res=reduce(add,num)\n",
    "print(res)"
   ]
  },
  {
   "cell_type": "markdown",
   "id": "50aa8be5",
   "metadata": {},
   "source": [
    "2.Write a Python program that uses the `reduce()` function to find the product of all elements in a\n",
    "list.\n"
   ]
  },
  {
   "cell_type": "code",
   "execution_count": 5,
   "id": "66446c2f",
   "metadata": {},
   "outputs": [
    {
     "name": "stdout",
     "output_type": "stream",
     "text": [
      "120\n"
     ]
    }
   ],
   "source": [
    "def product(x,y):\n",
    "    return x*y\n",
    "\n",
    "num=[5,4,3,2,1]\n",
    "res=reduce(product,num)\n",
    "print(res)"
   ]
  },
  {
   "cell_type": "markdown",
   "id": "18d26c29",
   "metadata": {},
   "source": [
    "3. Create a Python program that uses `reduce()` to find the maximum element in a list of numbers.\n",
    "\n"
   ]
  },
  {
   "cell_type": "code",
   "execution_count": 12,
   "id": "47fefdf0",
   "metadata": {},
   "outputs": [
    {
     "name": "stdout",
     "output_type": "stream",
     "text": [
      "65\n"
     ]
    }
   ],
   "source": [
    "#built in function\n",
    "num=[3,7,8,23,65]\n",
    "res=reduce(max,num)\n",
    "print(res)"
   ]
  },
  {
   "cell_type": "code",
   "execution_count": 11,
   "id": "9c49b3af",
   "metadata": {},
   "outputs": [
    {
     "name": "stdout",
     "output_type": "stream",
     "text": [
      "65\n"
     ]
    }
   ],
   "source": [
    "# Custom function\n",
    "def max_ele(a,b):\n",
    "    if a>b:\n",
    "        return a\n",
    "    else:\n",
    "        return b\n",
    "\n",
    "num=[3,7,8,23,65]\n",
    "res=reduce(max_ele,num)\n",
    "print(res)\n",
    "    "
   ]
  },
  {
   "cell_type": "markdown",
   "id": "932df222",
   "metadata": {},
   "source": [
    "4. How can you use the `reduce()` function to concatenate a list of strings into a single string?"
   ]
  },
  {
   "cell_type": "code",
   "execution_count": 14,
   "id": "2c77f5c0",
   "metadata": {},
   "outputs": [
    {
     "name": "stdout",
     "output_type": "stream",
     "text": [
      "pythonjavaPHP\n"
     ]
    }
   ],
   "source": [
    "def cancatinate_string(a,b):\n",
    "    return a+b\n",
    "l=[\"python\",\"java\",\"PHP\"]\n",
    "res=reduce(cancatinate_string,l)\n",
    "print(res)"
   ]
  },
  {
   "cell_type": "markdown",
   "id": "62d796eb",
   "metadata": {},
   "source": [
    "5. Write a Python program that calculates the factorial of a number using the `reduce()` function.\n"
   ]
  },
  {
   "cell_type": "code",
   "execution_count": 19,
   "id": "2fe47538",
   "metadata": {},
   "outputs": [
    {
     "name": "stdout",
     "output_type": "stream",
     "text": [
      "120\n"
     ]
    }
   ],
   "source": [
    "def fact(n,m):\n",
    "    return n*m\n",
    "n=5\n",
    "l=list(range(1,n+1))\n",
    "res=reduce(fact,l)\n",
    "print(res)"
   ]
  },
  {
   "cell_type": "markdown",
   "id": "c36dd380",
   "metadata": {},
   "source": [
    "6. Create a Python program that uses `reduce()` to find the GCD (Greatest Common Divisor) of a list\n",
    "of numbers.\n"
   ]
  },
  {
   "cell_type": "code",
   "execution_count": 20,
   "id": "cc989a59",
   "metadata": {},
   "outputs": [
    {
     "name": "stdout",
     "output_type": "stream",
     "text": [
      "6\n"
     ]
    }
   ],
   "source": [
    "import math\n",
    "def find_gcd(a,b):\n",
    "    return math.gcd(a,b)\n",
    "\n",
    "num= [12, 18, 24, 36]\n",
    "res=reduce(find_gcd,num)\n",
    "print(res)"
   ]
  },
  {
   "cell_type": "markdown",
   "id": "54a19e8a",
   "metadata": {},
   "source": [
    "7. Write a Python program that uses the `reduce()` function to find the sum of the digits of a given\n",
    "number."
   ]
  },
  {
   "cell_type": "code",
   "execution_count": 22,
   "id": "6f99d492",
   "metadata": {},
   "outputs": [
    {
     "name": "stdout",
     "output_type": "stream",
     "text": [
      "12\n"
     ]
    }
   ],
   "source": [
    "def add_digit(a,b):\n",
    "    return int(a)+int(b)\n",
    "\n",
    "number=str(345)\n",
    "res=reduce(add_digit,number)\n",
    "print(res)"
   ]
  },
  {
   "cell_type": "code",
   "execution_count": null,
   "id": "b961f0f5",
   "metadata": {},
   "outputs": [],
   "source": []
  }
 ],
 "metadata": {
  "kernelspec": {
   "display_name": "Python 3 (ipykernel)",
   "language": "python",
   "name": "python3"
  },
  "language_info": {
   "codemirror_mode": {
    "name": "ipython",
    "version": 3
   },
   "file_extension": ".py",
   "mimetype": "text/x-python",
   "name": "python",
   "nbconvert_exporter": "python",
   "pygments_lexer": "ipython3",
   "version": "3.10.9"
  }
 },
 "nbformat": 4,
 "nbformat_minor": 5
}
