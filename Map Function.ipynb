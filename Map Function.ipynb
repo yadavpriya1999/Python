{
 "cells": [
  {
   "cell_type": "markdown",
   "id": "556b2623",
   "metadata": {},
   "source": [
    "1. Explain the purpose of the `map()` function in Python and provide an example of how it can be\n",
    "used to apply a function to each element of an iterable.\n"
   ]
  },
  {
   "cell_type": "code",
   "execution_count": 4,
   "id": "d86a5595",
   "metadata": {},
   "outputs": [
    {
     "name": "stdout",
     "output_type": "stream",
     "text": [
      "[2, 4, 6, 8]\n"
     ]
    }
   ],
   "source": [
    "\n",
    "def add(n):\n",
    "    return n+n\n",
    "n=[1,2,3,4]\n",
    "result =list(map(add,n))\n",
    "print(result)"
   ]
  },
  {
   "cell_type": "markdown",
   "id": "a6aa6602",
   "metadata": {},
   "source": [
    "2. Write a Python program that uses the `map()` function to square each element of a list of\n",
    "numbers."
   ]
  },
  {
   "cell_type": "code",
   "execution_count": 5,
   "id": "6c28545f",
   "metadata": {},
   "outputs": [
    {
     "name": "stdout",
     "output_type": "stream",
     "text": [
      "[1, 4, 9, 16, 25]\n"
     ]
    }
   ],
   "source": [
    "def square(n):\n",
    "    return n*n\n",
    "n=[1,2,3,4,5]\n",
    "result=list(map(square,n))\n",
    "print(result)"
   ]
  },
  {
   "cell_type": "markdown",
   "id": "e8f17f81",
   "metadata": {},
   "source": [
    "3. How does the `map()` function differ from a list comprehension in Python, and when would you\n",
    "choose one over the other?"
   ]
  },
  {
   "cell_type": "code",
   "execution_count": null,
   "id": "437f6988",
   "metadata": {},
   "outputs": [],
   "source": []
  },
  {
   "cell_type": "markdown",
   "id": "12388a35",
   "metadata": {},
   "source": [
    "4. Create a Python program that uses the `map()` function to convert a list of names to uppercase."
   ]
  },
  {
   "cell_type": "code",
   "execution_count": 18,
   "id": "bf68f0be",
   "metadata": {},
   "outputs": [
    {
     "name": "stdout",
     "output_type": "stream",
     "text": [
      "['PYTHON', 'JAVA', 'CPP']\n"
     ]
    }
   ],
   "source": [
    "\n",
    "def upper_case(name):\n",
    "        return name.upper()\n",
    "names=[\"python\",'java',\"cpp\"]\n",
    "result=list(map(upper_case,names))\n",
    "print(list(result))"
   ]
  },
  {
   "cell_type": "markdown",
   "id": "399c3208",
   "metadata": {},
   "source": [
    "5. Write a Python program that uses the `map()` function to calculate the length of each word in a\n",
    "list of strings."
   ]
  },
  {
   "cell_type": "code",
   "execution_count": 20,
   "id": "8c1b518b",
   "metadata": {},
   "outputs": [
    {
     "name": "stdout",
     "output_type": "stream",
     "text": [
      "[6, 4, 3]\n"
     ]
    }
   ],
   "source": [
    "def find_length(w):\n",
    "    return len(w)\n",
    "list1=[\"python\",'java',\"cpp\"]\n",
    "result=list(map(find_length,list1))\n",
    "print(result)"
   ]
  },
  {
   "cell_type": "markdown",
   "id": "0fbac441",
   "metadata": {},
   "source": [
    "6. How can you use the `map()` function to apply a custom function to elements of multiple lists\n",
    "simultaneously in Python?"
   ]
  },
  {
   "cell_type": "markdown",
   "id": "8fc7fcff",
   "metadata": {},
   "source": [
    "by passing multiple parameter ,,,,,,\n",
    "(no of parameter==on of iterator)"
   ]
  },
  {
   "cell_type": "code",
   "execution_count": 35,
   "id": "5d482d2a",
   "metadata": {},
   "outputs": [
    {
     "name": "stdout",
     "output_type": "stream",
     "text": [
      "[1, 64, 2187, 65536]\n"
     ]
    }
   ],
   "source": [
    "#built in function\n",
    "l1=[1,2,3,4]\n",
    "l2=[5,6,7,8]\n",
    "r=list(map(pow,l1,l2))\n",
    "print(r)"
   ]
  },
  {
   "cell_type": "code",
   "execution_count": 36,
   "id": "09884e45",
   "metadata": {},
   "outputs": [
    {
     "name": "stdout",
     "output_type": "stream",
     "text": [
      "[6, 8, 10, 12]\n"
     ]
    }
   ],
   "source": [
    "#custom function\n",
    "\n",
    "def add(n1,n2):\n",
    "    return n1+n2\n",
    "l1=[1,2,3,4]\n",
    "l2=[5,6,7,8]\n",
    "\n",
    "result=list(map(add,l1,l2))\n",
    "print(result)"
   ]
  },
  {
   "cell_type": "markdown",
   "id": "24599737",
   "metadata": {},
   "source": [
    "7. Create a Python program that uses `map()` to convert a list of temperatures from Celsius to\n",
    "Fahrenheit.\n"
   ]
  },
  {
   "cell_type": "code",
   "execution_count": 37,
   "id": "1e41ed2f",
   "metadata": {},
   "outputs": [
    {
     "name": "stdout",
     "output_type": "stream",
     "text": [
      "[73.4, 132.8, 192.20000000000002, 113.0]\n"
     ]
    }
   ],
   "source": [
    "def fahrenheit(c):\n",
    "    return (c*1.8)+32\n",
    "celsius_temp=[23,56,89,45]\n",
    "res=list(map(fahrenheit,celsius_temp))\n",
    "print(res)"
   ]
  },
  {
   "cell_type": "markdown",
   "id": "55f137d0",
   "metadata": {},
   "source": [
    "8. Write a Python program that uses the `map()` function to round each element of a list of\n",
    "floating-point numbers to the nearest integer.\n"
   ]
  },
  {
   "cell_type": "code",
   "execution_count": 38,
   "id": "03d715b9",
   "metadata": {},
   "outputs": [
    {
     "name": "stdout",
     "output_type": "stream",
     "text": [
      "[2, 9, 42, 1]\n"
     ]
    }
   ],
   "source": [
    "#buit in function\n",
    "l=[2.344,9.340,42.345,1.0001]\n",
    "res=list(map(round,l))\n",
    "print(res)"
   ]
  },
  {
   "cell_type": "code",
   "execution_count": null,
   "id": "ee5049f6",
   "metadata": {},
   "outputs": [],
   "source": [
    "#custom function\n"
   ]
  },
  {
   "cell_type": "code",
   "execution_count": null,
   "id": "714b1bd9",
   "metadata": {},
   "outputs": [],
   "source": []
  }
 ],
 "metadata": {
  "kernelspec": {
   "display_name": "Python 3 (ipykernel)",
   "language": "python",
   "name": "python3"
  },
  "language_info": {
   "codemirror_mode": {
    "name": "ipython",
    "version": 3
   },
   "file_extension": ".py",
   "mimetype": "text/x-python",
   "name": "python",
   "nbconvert_exporter": "python",
   "pygments_lexer": "ipython3",
   "version": "3.10.9"
  }
 },
 "nbformat": 4,
 "nbformat_minor": 5
}
