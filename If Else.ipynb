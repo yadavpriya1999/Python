{
 "cells": [
  {
   "cell_type": "markdown",
   "id": "e4df517c",
   "metadata": {},
   "source": [
    "1. Write a Python program to check if a number is positive, negative, or zero using an if-else\n",
    "statement.\n"
   ]
  },
  {
   "cell_type": "code",
   "execution_count": 2,
   "id": "acb1edb5",
   "metadata": {},
   "outputs": [
    {
     "name": "stdout",
     "output_type": "stream",
     "text": [
      "Enter a number :23\n",
      "Positive\n"
     ]
    }
   ],
   "source": [
    "n=int(input(\"Enter a number :\"))\n",
    "\n",
    "if n==0:\n",
    "    print(\"Zero\")\n",
    "elif n>0:\n",
    "    print(\"Positive\")\n",
    "else:\n",
    "    print(\"Negative\")"
   ]
  },
  {
   "cell_type": "markdown",
   "id": "a4e28289",
   "metadata": {},
   "source": [
    "2. Create a Python program that checks if a given number is even or odd using an if-else statement.\n"
   ]
  },
  {
   "cell_type": "code",
   "execution_count": 4,
   "id": "82f2a255",
   "metadata": {},
   "outputs": [
    {
     "name": "stdout",
     "output_type": "stream",
     "text": [
      "Enter a number :30\n",
      "Number is Even\n"
     ]
    }
   ],
   "source": [
    "n=int(input(\"Enter a number :\"))\n",
    "\n",
    "if n%2==0:\n",
    "    print(\"Number is Even\")\n",
    "else:\n",
    "    print(\"Number is Odd\")"
   ]
  },
  {
   "cell_type": "markdown",
   "id": "7c1c8435",
   "metadata": {},
   "source": [
    "3. How can you use nested if-else statements in Python, and provide an example?\n"
   ]
  },
  {
   "cell_type": "code",
   "execution_count": null,
   "id": "3b84c049",
   "metadata": {},
   "outputs": [],
   "source": []
  },
  {
   "cell_type": "markdown",
   "id": "aa6c1060",
   "metadata": {},
   "source": [
    "4. Write a Python program to determine the largest of three numbers using if-else.\n"
   ]
  },
  {
   "cell_type": "code",
   "execution_count": 10,
   "id": "552eb742",
   "metadata": {},
   "outputs": [
    {
     "name": "stdout",
     "output_type": "stream",
     "text": [
      "A is largest\n"
     ]
    }
   ],
   "source": [
    "a=60\n",
    "b=30\n",
    "c=40\n",
    "\n",
    "if a>b:\n",
    "    if a>c:\n",
    "        print(\"A is largest\")\n",
    "    else:\n",
    "        print(\"C is largest\")\n",
    "else:\n",
    "    if b>c:\n",
    "        print(\"B is largest\")\n",
    "    else:\n",
    "         print(\"C is largest\")\n"
   ]
  },
  {
   "cell_type": "markdown",
   "id": "02e3df16",
   "metadata": {},
   "source": [
    "5. Write a Python program that calculates the absolute value of a number using if-else."
   ]
  },
  {
   "cell_type": "code",
   "execution_count": 9,
   "id": "8cbd4b45",
   "metadata": {},
   "outputs": [
    {
     "name": "stdout",
     "output_type": "stream",
     "text": [
      "Enter a number :45\n",
      "45\n"
     ]
    }
   ],
   "source": [
    "n=int(input(\"Enter a number :\"))\n",
    "def abs(n):\n",
    "    if n<0:\n",
    "        return -n\n",
    "    else:\n",
    "        return n\n",
    "print(abs(n))"
   ]
  },
  {
   "cell_type": "markdown",
   "id": "0393e1e9",
   "metadata": {},
   "source": [
    "6. Create a Python program that checks if a given character is a vowel or consonant using if-else.\n"
   ]
  },
  {
   "cell_type": "code",
   "execution_count": 11,
   "id": "90dbb5eb",
   "metadata": {},
   "outputs": [
    {
     "name": "stdout",
     "output_type": "stream",
     "text": [
      "Enter a charecter:o\n",
      "Vowels\n"
     ]
    }
   ],
   "source": [
    "ch=input(\"Enter a charecter:\")\n",
    "vowels=\"AEIOUaeiou\"\n",
    "if ch in vowels:\n",
    "    print(\"Vowels\")\n",
    "else:\n",
    "    print(\"consonant\")"
   ]
  },
  {
   "cell_type": "markdown",
   "id": "3c5c5a1a",
   "metadata": {},
   "source": [
    "7. Write a Python program to determine if a user is eligible to vote based on their age using if-else"
   ]
  },
  {
   "cell_type": "code",
   "execution_count": 14,
   "id": "10dcd197",
   "metadata": {},
   "outputs": [
    {
     "name": "stdout",
     "output_type": "stream",
     "text": [
      "Enter an age :17\n",
      "Not Eligible for vote\n"
     ]
    }
   ],
   "source": [
    "age=int(input(\"Enter an age :\"))\n",
    "\n",
    "if age>=18:\n",
    "        print(\"yes ! eligible for vote\")\n",
    "else:\n",
    "    print(\"Not Eligible for vote\")"
   ]
  },
  {
   "cell_type": "markdown",
   "id": "39b6eda4",
   "metadata": {},
   "source": [
    "8. Create a Python program that calculates the discount amount based on the purchase amount\n",
    "using if-else.\n"
   ]
  },
  {
   "cell_type": "code",
   "execution_count": 6,
   "id": "a3ca77e3",
   "metadata": {},
   "outputs": [
    {
     "name": "stdout",
     "output_type": "stream",
     "text": [
      "10% discount\n"
     ]
    }
   ],
   "source": [
    "purchage_amount=300\n",
    "if purchage_amount<=500:\n",
    "    print(\"10% discount\")\n",
    "elif 500 >= purchage_amount >= 1000:\n",
    "    print(\"50 % discount\")\n",
    "elif 1000 >= purchage_amount >= 5000:\n",
    "    print(\"70 % discount\")\n",
    "else:\n",
    "    print(\"No any Discount\")"
   ]
  },
  {
   "cell_type": "markdown",
   "id": "a530222e",
   "metadata": {},
   "source": [
    "9. Write a Python program to check if a number is within a specified range using if-else"
   ]
  },
  {
   "cell_type": "code",
   "execution_count": 3,
   "id": "0c2f8d08",
   "metadata": {},
   "outputs": [
    {
     "name": "stdout",
     "output_type": "stream",
     "text": [
      "Enter a number :23\n",
      "Yes Number is within range\n"
     ]
    }
   ],
   "source": [
    "n=int(input(\"Enter a number :\"))\n",
    "if n in range(1,50):\n",
    "    print(\"Yes Number is within range\")\n",
    "else:\n",
    "    print(\"Not in range\")"
   ]
  },
  {
   "cell_type": "markdown",
   "id": "c35d2b34",
   "metadata": {},
   "source": [
    "10. Create a Python program that determines the grade of a student based on their score using\n",
    "if-else.\n"
   ]
  },
  {
   "cell_type": "code",
   "execution_count": 11,
   "id": "0c23c428",
   "metadata": {},
   "outputs": [
    {
     "name": "stdout",
     "output_type": "stream",
     "text": [
      "Enter the score of the student: 230\n",
      "D Grade\n"
     ]
    }
   ],
   "source": [
    "score=int(input(\"Enter the score of the student: \"))\n",
    "\n",
    "if score>450:\n",
    "    print(\"A Grade\")\n",
    "elif 450>=score>=400:\n",
    "    print(\"B Grade\")\n",
    "elif 400>=score>=300:\n",
    "    print(\"C Grade\")\n",
    "else:\n",
    "    print(\"D Grade\")\n",
    "    "
   ]
  },
  {
   "cell_type": "markdown",
   "id": "d9ac39cb",
   "metadata": {},
   "source": [
    "11. Write a Python program to check if a string is empty or not using if-else.\n"
   ]
  },
  {
   "cell_type": "code",
   "execution_count": 18,
   "id": "66cc2982",
   "metadata": {},
   "outputs": [
    {
     "name": "stdout",
     "output_type": "stream",
     "text": [
      "Enter a string:\n",
      "Length of String is : 0\n",
      "String is Empty\n"
     ]
    }
   ],
   "source": [
    "s=str(input(\"Enter a string:\"))\n",
    "print(\"Length of String is :\",len(s))\n",
    "if len(s)==0:\n",
    "    print(\"String is Empty\")\n",
    "else:\n",
    "    print(\"String is not Empty\")"
   ]
  },
  {
   "cell_type": "markdown",
   "id": "cdbb5c33",
   "metadata": {},
   "source": [
    "12. Create a Python program that identifies the type of a triangle (e.g., equilateral, isosceles, or\n",
    "scalene) based on input values using if-else.\n"
   ]
  },
  {
   "cell_type": "code",
   "execution_count": 2,
   "id": "887532b2",
   "metadata": {},
   "outputs": [
    {
     "name": "stdout",
     "output_type": "stream",
     "text": [
      "Isosceles Triangle\n"
     ]
    }
   ],
   "source": [
    "a=12\n",
    "b=34\n",
    "c=12\n",
    "\n",
    "if (a==b==c):\n",
    "    print(\"Equilateral Triangle\")\n",
    "elif (a==b or b==c or c==a ):\n",
    "     print(\"Isosceles Triangle\")\n",
    "else:\n",
    "    print(\"scalene Triangle\")"
   ]
  },
  {
   "cell_type": "markdown",
   "id": "0c53c4e2",
   "metadata": {},
   "source": [
    "13. Write a Python program to determine the day of the week based on a user-provided number\n",
    "using if-else.\n"
   ]
  },
  {
   "cell_type": "code",
   "execution_count": 6,
   "id": "a9b8ce33",
   "metadata": {},
   "outputs": [
    {
     "name": "stdout",
     "output_type": "stream",
     "text": [
      "Enter day Number :2\n",
      "Tue\n"
     ]
    }
   ],
   "source": [
    "day=int(input(\"Enter day Number :\"))\n",
    "\n",
    "if day==1:\n",
    "    print(\"Mon\")\n",
    "elif day==2:\n",
    "    print(\"Tue\")\n",
    "elif day==3:\n",
    "    print(\"Wed\")\n",
    "elif day==4:\n",
    "    print(\"Thu\")\n",
    "elif day==5:\n",
    "    print(\"Fri\")\n",
    "elif day==6:\n",
    "    print(\"sat\")\n",
    "elif day==7:\n",
    "    print(\"Sun\")\n",
    "else:\n",
    "    print(\"Please enter a valid day!\")"
   ]
  },
  {
   "cell_type": "markdown",
   "id": "3e07806f",
   "metadata": {},
   "source": [
    "14. Create a Python program that checks if a given year is a leap year using both if-else and a\n",
    "function.\n"
   ]
  },
  {
   "cell_type": "code",
   "execution_count": 9,
   "id": "d5755dc6",
   "metadata": {},
   "outputs": [
    {
     "name": "stdout",
     "output_type": "stream",
     "text": [
      "Enter a year :2100\n",
      "Not a leap Year\n"
     ]
    }
   ],
   "source": [
    "yr=int(input(\"Enter a year :\"))\n",
    "\n",
    "if yr%400==0 and yr%100==0:\n",
    "    print(\"Leap Year\")\n",
    "elif yr%4==0 and yr%100!=0:\n",
    "    print(\"Leap Year\")\n",
    "else:\n",
    "    print(\"Not a leap Year\")"
   ]
  },
  {
   "cell_type": "markdown",
   "id": "e66e4643",
   "metadata": {},
   "source": [
    "15. How do you use the \"assert\" statement in Python to add debugging checks within if-else blocks?"
   ]
  },
  {
   "cell_type": "markdown",
   "id": "206dd53d",
   "metadata": {},
   "source": [
    "The assert statement in Python is a debugging aid that can be used to test a condition within your code. It's often used to add debugging checks within if-else blocks to catch unexpected conditions or errors during development. If the condition specified in the assert statement is False, Python raises an AssertionError exception, which can help you identify issues in your code."
   ]
  },
  {
   "cell_type": "markdown",
   "id": "52f8bd70",
   "metadata": {},
   "source": [
    "16. Create a Python program that determines the eligibility of a person for a senior citizen discount\n",
    "based on age using if-else."
   ]
  },
  {
   "cell_type": "code",
   "execution_count": 10,
   "id": "fbd1f712",
   "metadata": {},
   "outputs": [
    {
     "name": "stdout",
     "output_type": "stream",
     "text": [
      "Senior citizen: Eligible\n"
     ]
    }
   ],
   "source": [
    "age=60\n",
    "\n",
    "if age<=1:\n",
    "    print(\"Infant: Not Eligible\")\n",
    "elif age>1 and age<13:\n",
    "    print(\"Child: Not Eligible\")\n",
    "elif age>13 and age<20:\n",
    "    print(\"Teenager: Not Eligible\")\n",
    "elif age>20 and age<50:\n",
    "    print(\"Adult: Not Eligible\")\n",
    "elif age>50:\n",
    "    print(\"Senior citizen: Eligible\")"
   ]
  },
  {
   "cell_type": "markdown",
   "id": "442fddd5",
   "metadata": {},
   "source": [
    "17. Write a Python program to categorize a given character as uppercase, lowercase, or neither\n",
    "using if-else.\n"
   ]
  },
  {
   "cell_type": "code",
   "execution_count": 13,
   "id": "c6e8e711",
   "metadata": {},
   "outputs": [
    {
     "name": "stdout",
     "output_type": "stream",
     "text": [
      "Enter a character :3\n",
      "Upper case\n"
     ]
    }
   ],
   "source": [
    "ch=input(\"Enter a character :\")\n",
    "if ch.upper()==ch:\n",
    "    print(\"Upper case\")\n",
    "elif ch.lower()==ch:\n",
    "    print(\"Lower Case\")\n",
    "else:\n",
    "    print(\"Neither \")"
   ]
  },
  {
   "cell_type": "markdown",
   "id": "929d05ca",
   "metadata": {},
   "source": [
    "18. Write a Python program to determine the roots of a quadratic equation using if-else."
   ]
  },
  {
   "cell_type": "code",
   "execution_count": 15,
   "id": "7e821fe9",
   "metadata": {},
   "outputs": [],
   "source": [
    "a=2\n",
    "b=6\n",
    "c=4\n",
    "\n",
    "def quadratic(a,b,c):\n",
    "    d=b*b-4*a*c\n",
    "    if d>0:\n",
    "        print(\"Real and different root\")\n",
    "    elif d<0:\n",
    "         print(\"Not Real and complex\")\n",
    "    elif d==0:\n",
    "        print(\"Real and Equal\")\n",
    "        \n"
   ]
  },
  {
   "cell_type": "code",
   "execution_count": 16,
   "id": "d8a18b44",
   "metadata": {},
   "outputs": [
    {
     "name": "stdout",
     "output_type": "stream",
     "text": [
      "Real and different root\n"
     ]
    }
   ],
   "source": [
    "quadratic(a,b,c)"
   ]
  },
  {
   "cell_type": "markdown",
   "id": "939fba7e",
   "metadata": {},
   "source": [
    "19. Create a Python program that checks if a given year is a century year or not using if-else."
   ]
  },
  {
   "cell_type": "code",
   "execution_count": 20,
   "id": "9b104a91",
   "metadata": {},
   "outputs": [
    {
     "name": "stdout",
     "output_type": "stream",
     "text": [
      "Enter a year:2100\n",
      "Century Year\n"
     ]
    }
   ],
   "source": [
    "yr=int(input(\"Enter a year:\"))\n",
    "if yr%100==0:\n",
    "    print(\"Century Year\")\n",
    "else:\n",
    "    print(\"Not Century Year\")"
   ]
  },
  {
   "cell_type": "markdown",
   "id": "3a3934a1",
   "metadata": {},
   "source": [
    "20. Write a Python program to determine if a given number is a perfect square using if-else.\n"
   ]
  },
  {
   "cell_type": "code",
   "execution_count": 30,
   "id": "55f20a20",
   "metadata": {},
   "outputs": [
    {
     "name": "stdout",
     "output_type": "stream",
     "text": [
      "perfect Square\n"
     ]
    }
   ],
   "source": [
    "import math\n",
    "n=36\n",
    "sq=math.sqrt(n)\n",
    "if sq.is_integer():\n",
    "    print(\"perfect Square\")\n",
    "else:\n",
    "    print(\"Not a perfect Sqaure\")"
   ]
  },
  {
   "cell_type": "markdown",
   "id": "0d5e74aa",
   "metadata": {},
   "source": [
    "21. Explain the purpose of the \"continue\" and \"break\" statements within if-else loops.\n"
   ]
  },
  {
   "cell_type": "markdown",
   "id": "36dd5854",
   "metadata": {},
   "source": [
    "Break statement stops the entire process of the loop. \n",
    "Break also terminates the remaining iterations.\n",
    "\n",
    "\n",
    "Continue statement only stops the current iteration of the loop.                                                            Continue doesn't terminate the next iterations; it resumes with the successive iterations."
   ]
  },
  {
   "cell_type": "markdown",
   "id": "e660365c",
   "metadata": {},
   "source": [
    "22. Create a Python program that calculates the BMI (Body Mass Index) of a person based on their\n",
    "weight and height using if-else."
   ]
  },
  {
   "cell_type": "code",
   "execution_count": 38,
   "id": "b2746e2c",
   "metadata": {},
   "outputs": [
    {
     "name": "stdout",
     "output_type": "stream",
     "text": [
      "23.828124999999996\n",
      "Your weight is in normal Range\n"
     ]
    }
   ],
   "source": [
    "weight=61  #kg\n",
    "height=160 #meter\n",
    "\n",
    "bmi=weight/(height/100)**2\n",
    "print(bmi)\n",
    "if bmi<=18.5:\n",
    "    print(\"Under weight\")\n",
    "elif 18.8<=bmi<24.9:\n",
    "    print(\"Your weight is in normal Range\")\n",
    "elif 25<=bmi<29.9:\n",
    "    print(\"Overweight\")"
   ]
  },
  {
   "cell_type": "markdown",
   "id": "f214132c",
   "metadata": {},
   "source": [
    "23. How can you use the \"filter()\" function with if-else statements to filter elements from a list?"
   ]
  },
  {
   "cell_type": "code",
   "execution_count": 49,
   "id": "97b2ca47",
   "metadata": {},
   "outputs": [
    {
     "name": "stdout",
     "output_type": "stream",
     "text": [
      "[2, 4, 6, 6, 6, 8]\n"
     ]
    }
   ],
   "source": [
    "lst=[1,2,3,4,5,6,6,7,6,8]\n",
    "def find_even(l):\n",
    "    if l%2==0:\n",
    "        return True\n",
    "    else:\n",
    "        return False\n",
    "    \n",
    "res=list(filter(find_even,lst))\n",
    "print(res)"
   ]
  },
  {
   "cell_type": "markdown",
   "id": "91038357",
   "metadata": {},
   "source": [
    "24. Write a Python program to determine if a given number is prime or not using if-else.\n"
   ]
  },
  {
   "cell_type": "code",
   "execution_count": 4,
   "id": "c58848e8",
   "metadata": {},
   "outputs": [
    {
     "name": "stdout",
     "output_type": "stream",
     "text": [
      "Prime Number\n"
     ]
    }
   ],
   "source": [
    "n=7\n",
    "flag=False\n",
    "for i in range(2,n):\n",
    "    if n%i==0:\n",
    "        flag=True\n",
    "        break\n",
    "if flag:\n",
    "    print(\"Not Prime Number\")\n",
    "else:\n",
    "    print(\"Prime Number\")"
   ]
  },
  {
   "cell_type": "code",
   "execution_count": null,
   "id": "2e055e72",
   "metadata": {},
   "outputs": [],
   "source": []
  }
 ],
 "metadata": {
  "kernelspec": {
   "display_name": "Python 3 (ipykernel)",
   "language": "python",
   "name": "python3"
  },
  "language_info": {
   "codemirror_mode": {
    "name": "ipython",
    "version": 3
   },
   "file_extension": ".py",
   "mimetype": "text/x-python",
   "name": "python",
   "nbconvert_exporter": "python",
   "pygments_lexer": "ipython3",
   "version": "3.10.9"
  }
 },
 "nbformat": 4,
 "nbformat_minor": 5
}
