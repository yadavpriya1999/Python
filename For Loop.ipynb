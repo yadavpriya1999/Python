{
 "cells": [
  {
   "cell_type": "markdown",
   "id": "2014b1dc",
   "metadata": {},
   "source": [
    "1. Write a Python program to print numbers from 1 to 10 using a for loop."
   ]
  },
  {
   "cell_type": "code",
   "execution_count": 3,
   "id": "cec3a565",
   "metadata": {},
   "outputs": [
    {
     "name": "stdout",
     "output_type": "stream",
     "text": [
      "1 2 3 4 5 6 7 8 9 10 "
     ]
    }
   ],
   "source": [
    "for i in range(1,11):\n",
    "    print(i,end=\" \")"
   ]
  },
  {
   "cell_type": "markdown",
   "id": "7a81caa9",
   "metadata": {},
   "source": [
    "2. Explain the difference between a for loop and a while loop in Python.\n"
   ]
  },
  {
   "cell_type": "markdown",
   "id": "b2e295c0",
   "metadata": {},
   "source": [
    "For loop is used to iterate over a sequence of items.\n",
    "\n",
    "\n",
    "While loop is used to repeatedly execute a block of statements while a condition is true."
   ]
  },
  {
   "cell_type": "markdown",
   "id": "81629e28",
   "metadata": {},
   "source": [
    "3. Write a Python program to calculate the sum of all numbers from 1 to 100 using a for loop."
   ]
  },
  {
   "cell_type": "code",
   "execution_count": 7,
   "id": "7767f035",
   "metadata": {},
   "outputs": [
    {
     "name": "stdout",
     "output_type": "stream",
     "text": [
      "5050\n"
     ]
    }
   ],
   "source": [
    "n=100\n",
    "digit_sum=0\n",
    "for i in range(n+1):\n",
    "    digit_sum+=i\n",
    "print(digit_sum)\n",
    "    "
   ]
  },
  {
   "cell_type": "markdown",
   "id": "958ac063",
   "metadata": {},
   "source": [
    "4. How do you iterate through a list using a for loop in Python?\n"
   ]
  },
  {
   "cell_type": "code",
   "execution_count": 10,
   "id": "54f3516b",
   "metadata": {},
   "outputs": [
    {
     "name": "stdout",
     "output_type": "stream",
     "text": [
      "1 3 4 5 6 7 7 "
     ]
    }
   ],
   "source": [
    "list1=[1,3,4,5,6,7,7]\n",
    "for i in list1:\n",
    "    print(i,end=\" \")"
   ]
  },
  {
   "cell_type": "markdown",
   "id": "547a846d",
   "metadata": {},
   "source": [
    "5. Write a Python program to find the product of all elements in a list using a for loop."
   ]
  },
  {
   "cell_type": "code",
   "execution_count": 11,
   "id": "20b06351",
   "metadata": {},
   "outputs": [
    {
     "name": "stdout",
     "output_type": "stream",
     "text": [
      "120\n"
     ]
    }
   ],
   "source": [
    "list2=[1,2,3,4,5]\n",
    "product=1\n",
    "for i in list2:\n",
    "    product*=i\n",
    "print(product)"
   ]
  },
  {
   "cell_type": "markdown",
   "id": "c93944a6",
   "metadata": {},
   "source": [
    "6. Create a Python program that prints all even numbers from 1 to 20 using a for loop.\n"
   ]
  },
  {
   "cell_type": "code",
   "execution_count": 13,
   "id": "b97e35d2",
   "metadata": {},
   "outputs": [
    {
     "name": "stdout",
     "output_type": "stream",
     "text": [
      "2 4 6 8 10 12 14 16 18 20 "
     ]
    }
   ],
   "source": [
    "for i in range(1,21):\n",
    "    if i%2==0:\n",
    "        print(i,end=\" \")"
   ]
  },
  {
   "cell_type": "markdown",
   "id": "53d99cc0",
   "metadata": {},
   "source": [
    "7. Write a Python program that calculates the factorial of a number using a for loop."
   ]
  },
  {
   "cell_type": "code",
   "execution_count": 26,
   "id": "c6c92e5b",
   "metadata": {},
   "outputs": [
    {
     "name": "stdout",
     "output_type": "stream",
     "text": [
      "Factorial : 120\n"
     ]
    }
   ],
   "source": [
    "n=5\n",
    "fact=1\n",
    "for i in range(1,n+1):\n",
    "    fact*=i\n",
    "print(\"Factorial :\",fact)"
   ]
  },
  {
   "cell_type": "markdown",
   "id": "66612fa9",
   "metadata": {},
   "source": [
    "8. How can you iterate through the characters of a string using a for loop in Python?\n"
   ]
  },
  {
   "cell_type": "code",
   "execution_count": 22,
   "id": "2a30cbd2",
   "metadata": {},
   "outputs": [
    {
     "name": "stdout",
     "output_type": "stream",
     "text": [
      "p, w, s, k, i, l, l, s, "
     ]
    }
   ],
   "source": [
    "s=\"pwskills\"\n",
    "for i in s:\n",
    "    print(i,end=\", \")"
   ]
  },
  {
   "cell_type": "markdown",
   "id": "4ec105ed",
   "metadata": {},
   "source": [
    "9. Write a Python program to find the largest number in a list using a for loop."
   ]
  },
  {
   "cell_type": "code",
   "execution_count": 30,
   "id": "35fc354d",
   "metadata": {},
   "outputs": [
    {
     "name": "stdout",
     "output_type": "stream",
     "text": [
      "Largest number : 23\n"
     ]
    }
   ],
   "source": [
    "list1=[2,3,4,1,23,1,2,4]\n",
    "largest_num=list1[0]\n",
    "for i in list1:\n",
    "    if i>largest_num:\n",
    "        largest_num=i\n",
    "print(\"Largest number :\",largest_num)\n",
    "    "
   ]
  },
  {
   "cell_type": "markdown",
   "id": "38866ebb",
   "metadata": {},
   "source": [
    "10.Create a Python program that prints the Fibonacci sequence up to a specified limit using a for\n",
    "loop.\n"
   ]
  },
  {
   "cell_type": "code",
   "execution_count": 31,
   "id": "11a4386b",
   "metadata": {},
   "outputs": [
    {
     "name": "stdout",
     "output_type": "stream",
     "text": [
      "0\n",
      "1\n",
      "1\n",
      "2\n",
      "3\n",
      "5\n",
      "8\n"
     ]
    }
   ],
   "source": [
    "a=0\n",
    "b=1\n",
    "print(a)\n",
    "print(b)\n",
    "for i in range(1,6):\n",
    "    c=a+b\n",
    "    print(c)\n",
    "    a=b\n",
    "    b=c"
   ]
  },
  {
   "cell_type": "markdown",
   "id": "e8da2306",
   "metadata": {},
   "source": [
    "11. Write a Python program to count the number of vowels in a given string using a for loop.\n"
   ]
  },
  {
   "cell_type": "code",
   "execution_count": 32,
   "id": "40eb4b1d",
   "metadata": {},
   "outputs": [
    {
     "name": "stdout",
     "output_type": "stream",
     "text": [
      "7\n"
     ]
    }
   ],
   "source": [
    "s=\"i love python programing\"\n",
    "vowels=\"AEIOUaeiou\"\n",
    "c=0\n",
    "for i in s:\n",
    "    if i in vowels:\n",
    "        c+=1\n",
    "print(c)\n",
    "    "
   ]
  },
  {
   "cell_type": "markdown",
   "id": "5571b763",
   "metadata": {},
   "source": [
    "12. Create a Python program that generates a multiplication table for a given number using a for\n",
    "loop.\n"
   ]
  },
  {
   "cell_type": "code",
   "execution_count": 33,
   "id": "c0b2b4e4",
   "metadata": {},
   "outputs": [
    {
     "name": "stdout",
     "output_type": "stream",
     "text": [
      "5 * 0 = 0\n",
      "5 * 1 = 5\n",
      "5 * 2 = 10\n",
      "5 * 3 = 15\n",
      "5 * 4 = 20\n",
      "5 * 5 = 25\n",
      "5 * 6 = 30\n",
      "5 * 7 = 35\n",
      "5 * 8 = 40\n",
      "5 * 9 = 45\n",
      "5 * 10 = 50\n"
     ]
    }
   ],
   "source": [
    "n=5\n",
    "for i in range(0,11):\n",
    "    print(n,\"*\",i,\"=\",n*i)"
   ]
  },
  {
   "cell_type": "markdown",
   "id": "b1de49e2",
   "metadata": {},
   "source": [
    "13. Write a Python program to reverse a list using a for loop.\n"
   ]
  },
  {
   "cell_type": "code",
   "execution_count": 6,
   "id": "7c1f89a0",
   "metadata": {},
   "outputs": [
    {
     "name": "stdout",
     "output_type": "stream",
     "text": [
      "[5, 4, 3, 2, 1]\n"
     ]
    }
   ],
   "source": [
    "l=[1,2,3,4,5]\n",
    "revers_list=[]\n",
    "for i in reversed(l):\n",
    "    revers_list.append(i)\n",
    "print(revers_list)"
   ]
  },
  {
   "cell_type": "markdown",
   "id": "70d7cd3e",
   "metadata": {},
   "source": [
    "14. Write a Python program to find the common elements between two lists using a for loop."
   ]
  },
  {
   "cell_type": "code",
   "execution_count": 7,
   "id": "1f94d4bb",
   "metadata": {},
   "outputs": [
    {
     "name": "stdout",
     "output_type": "stream",
     "text": [
      "3\n"
     ]
    }
   ],
   "source": [
    "l1=[2,3,4,5]\n",
    "l2=[1,7,6,3]\n",
    "for i in l1:\n",
    "    if i in l2:\n",
    "        print(i)"
   ]
  },
  {
   "cell_type": "markdown",
   "id": "479b2d71",
   "metadata": {},
   "source": [
    "15. Explain how to use a for loop to iterate through the keys and values of a dictionary in Python"
   ]
  },
  {
   "cell_type": "code",
   "execution_count": 35,
   "id": "5360ab37",
   "metadata": {},
   "outputs": [
    {
     "name": "stdout",
     "output_type": "stream",
     "text": [
      "a    b    c    d    \r\n",
      "apple ball cat dog "
     ]
    }
   ],
   "source": [
    "#method 1\n",
    "dictionary={\n",
    "    \"a\":\"apple\",\n",
    "    \"b\":\"ball\",\n",
    "    \"c\":\"cat\",\n",
    "    \"d\":\"dog\"  \n",
    "}\n",
    "for i in dictionary.keys():\n",
    "    print(i,end=\"    \")\n",
    "    \n",
    "print('\\r')\n",
    "for j in dictionary.values():\n",
    "    print(j,end=\" \")"
   ]
  },
  {
   "cell_type": "code",
   "execution_count": 37,
   "id": "4982e499",
   "metadata": {},
   "outputs": [
    {
     "name": "stdout",
     "output_type": "stream",
     "text": [
      "apple\n",
      "ball\n",
      "cat\n",
      "dog\n"
     ]
    }
   ],
   "source": [
    "#method 2\n",
    "dictionary={\n",
    "    \"a\":\"apple\",\n",
    "    \"b\":\"ball\",\n",
    "    \"c\":\"cat\",\n",
    "    \"d\":\"dog\"  \n",
    "}\n",
    "for k in dictionary:\n",
    "    value=dictionary[k]\n",
    "    print(value)"
   ]
  },
  {
   "cell_type": "markdown",
   "id": "0bdfa90e",
   "metadata": {},
   "source": [
    "16. Write a Python program to find the GCD (Greatest Common Divisor) of two numbers using a for\n",
    "loop.\n"
   ]
  },
  {
   "cell_type": "code",
   "execution_count": 17,
   "id": "e7b61342",
   "metadata": {},
   "outputs": [
    {
     "name": "stdout",
     "output_type": "stream",
     "text": [
      "4\n"
     ]
    }
   ],
   "source": [
    "a=28\n",
    "b=12\n",
    "if a>b:\n",
    "    mn=b\n",
    "else:\n",
    "    mn=a\n",
    "for i in range(1,mn+1):\n",
    "    if (a%i==0 and b%i==0):\n",
    "        gcd=i\n",
    "print(gcd)"
   ]
  },
  {
   "cell_type": "code",
   "execution_count": 14,
   "id": "f3ddac29",
   "metadata": {},
   "outputs": [
    {
     "name": "stdout",
     "output_type": "stream",
     "text": [
      "12\n"
     ]
    }
   ],
   "source": [
    "a=36\n",
    "b=60\n",
    "for i in range(b):\n",
    "    if a!=0 and b!=0:\n",
    "        a,b=b,a%b\n",
    "print(a)"
   ]
  },
  {
   "cell_type": "markdown",
   "id": "266e147e",
   "metadata": {},
   "source": [
    "17. Create a Python program that checks if a string is a palindrome using a for loop.\n"
   ]
  },
  {
   "cell_type": "code",
   "execution_count": 2,
   "id": "453bc27e",
   "metadata": {},
   "outputs": [
    {
     "name": "stdout",
     "output_type": "stream",
     "text": [
      "False\n"
     ]
    }
   ],
   "source": [
    "def check_palindrome(s):\n",
    "    for i in range(len(s)//2):\n",
    "        e=len(s)-1\n",
    "        if s[i]!=s[e]:\n",
    "            return False\n",
    "        return True\n",
    "print(check_palindrome(\"namak\"))"
   ]
  },
  {
   "cell_type": "markdown",
   "id": "d2ee4e74",
   "metadata": {},
   "source": [
    "18. Write a Python program to remove duplicates from a list using a for loop.\n"
   ]
  },
  {
   "cell_type": "code",
   "execution_count": 7,
   "id": "a148a07a",
   "metadata": {},
   "outputs": [
    {
     "name": "stdout",
     "output_type": "stream",
     "text": [
      "[2, 3, 4, 1, 5, 6, 7, 8]\n"
     ]
    }
   ],
   "source": [
    "def remove_duplicate(l):\n",
    "    dl=[]\n",
    "    for i in l:\n",
    "        if i  not in  dl:\n",
    "            dl.append(i)\n",
    "    return dl\n",
    "            \n",
    "l=[2,2,3,4,1,1,5,6,7,8]\n",
    "print(remove_duplicate(l))"
   ]
  },
  {
   "cell_type": "markdown",
   "id": "4edeb872",
   "metadata": {},
   "source": [
    "19. Create a Python program that counts the number of words in a sentence using a for loop."
   ]
  },
  {
   "cell_type": "code",
   "execution_count": 1,
   "id": "09203733",
   "metadata": {},
   "outputs": [
    {
     "name": "stdout",
     "output_type": "stream",
     "text": [
      "5\n"
     ]
    }
   ],
   "source": [
    "def count_word(s):\n",
    "    c=0\n",
    "    w=s.split()\n",
    "    for i in w:\n",
    "        c+=1\n",
    "    return c\n",
    "    \n",
    "    \n",
    "sentence=\"i love python programming langunage\"\n",
    "print(count_word(sentence))"
   ]
  },
  {
   "cell_type": "markdown",
   "id": "ec9e0b4b",
   "metadata": {},
   "source": [
    "20. Write a Python program to find the sum of all odd numbers from 1 to 50 using a for loop.\n"
   ]
  },
  {
   "cell_type": "code",
   "execution_count": 3,
   "id": "8c4d8ece",
   "metadata": {},
   "outputs": [
    {
     "name": "stdout",
     "output_type": "stream",
     "text": [
      "625\n"
     ]
    }
   ],
   "source": [
    "def count_odd(n):\n",
    "    s=0\n",
    "    for i in range(n+1):\n",
    "        if i%2!=0:\n",
    "            s+=i\n",
    "    return s\n",
    "num=50\n",
    "print(count_odd(num))"
   ]
  },
  {
   "cell_type": "markdown",
   "id": "fbd602ea",
   "metadata": {},
   "source": [
    "21. Write a Python program that checks if a given year is a leap year using a for loop."
   ]
  },
  {
   "cell_type": "code",
   "execution_count": 6,
   "id": "b67880e4",
   "metadata": {},
   "outputs": [
    {
     "name": "stdout",
     "output_type": "stream",
     "text": [
      "True\n"
     ]
    }
   ],
   "source": [
    "def check_leapyr(y):\n",
    "    if (y%4==0 and y%100!=0) or (y%400==0):\n",
    "        return True\n",
    "    else:\n",
    "        return False\n",
    "year=2004\n",
    "print(check_leapyr(year))"
   ]
  },
  {
   "cell_type": "markdown",
   "id": "e83ecf54",
   "metadata": {},
   "source": [
    "22. Create a Python program that calculates the square root of a number using a for loop.\n"
   ]
  },
  {
   "cell_type": "code",
   "execution_count": 25,
   "id": "d60b6d13",
   "metadata": {},
   "outputs": [
    {
     "name": "stdout",
     "output_type": "stream",
     "text": [
      "4\n"
     ]
    }
   ],
   "source": [
    "def square_root(n):\n",
    "    if n==0 or n==1:\n",
    "        return n\n",
    "    for i in range(2,n):\n",
    "        if i*i==n:\n",
    "            return i\n",
    "    return i-1\n",
    "n=16\n",
    "print(square_root(n))"
   ]
  },
  {
   "cell_type": "markdown",
   "id": "9bd1d711",
   "metadata": {},
   "source": [
    "23. Write a Python program to find the LCM (Least Common Multiple) of two numbers using a for\n",
    "loop.\n"
   ]
  },
  {
   "cell_type": "code",
   "execution_count": 27,
   "id": "5c42c97f",
   "metadata": {},
   "outputs": [
    {
     "name": "stdout",
     "output_type": "stream",
     "text": [
      "168\n"
     ]
    }
   ],
   "source": [
    "n1=12\n",
    "n2=14\n",
    "if n1>n2:\n",
    "    mx=n1\n",
    "else:\n",
    "    mx=n2\n",
    "\n",
    "for i in range(mx,1+(n1*n2)):\n",
    "    if i%n1==i%n2==0:\n",
    "        lcm=i\n",
    "print(lcm)"
   ]
  },
  {
   "cell_type": "code",
   "execution_count": null,
   "id": "0c2734a7",
   "metadata": {},
   "outputs": [],
   "source": []
  }
 ],
 "metadata": {
  "kernelspec": {
   "display_name": "Python 3 (ipykernel)",
   "language": "python",
   "name": "python3"
  },
  "language_info": {
   "codemirror_mode": {
    "name": "ipython",
    "version": 3
   },
   "file_extension": ".py",
   "mimetype": "text/x-python",
   "name": "python",
   "nbconvert_exporter": "python",
   "pygments_lexer": "ipython3",
   "version": "3.10.9"
  }
 },
 "nbformat": 4,
 "nbformat_minor": 5
}
